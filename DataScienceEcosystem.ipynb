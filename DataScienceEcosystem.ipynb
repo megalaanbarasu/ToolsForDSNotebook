{
 "cells": [
  {
   "cell_type": "markdown",
   "id": "c1862b74",
   "metadata": {},
   "source": [
    "# Data Science Tools and Ecosystem\n"
   ]
  },
  {
   "cell_type": "markdown",
   "id": "bd401760",
   "metadata": {},
   "source": [
    "In this notebook, Data Science Tools and Ecosystem are summarized."
   ]
  },
  {
   "cell_type": "markdown",
   "id": "b4b5e4dc",
   "metadata": {},
   "source": [
    "**Objectives:**\n",
    "* Learn about popular languages in Data Science\n",
    "* Review lessons on Markdowns and code\n",
    "* Learn about popular libraries in Data Science\n",
    "* Review lessons on Jupyter Notebook"
   ]
  },
  {
   "cell_type": "markdown",
   "id": "00fe9f12",
   "metadata": {},
   "source": [
    "Some of the popular languages that Data Scientists use are:\n",
    "1. Python\n",
    "2. R\n",
    "3. Javascript\n",
    "4. SQL\n",
    "\n"
   ]
  },
  {
   "cell_type": "markdown",
   "id": "3894ad60",
   "metadata": {},
   "source": [
    "Some of the commonly used libraries used by Data Scientists include:\n",
    "1. Pandas\n",
    "2. NumPy\n",
    "3. Matplotlib"
   ]
  },
  {
   "cell_type": "markdown",
   "id": "da41aa36",
   "metadata": {},
   "source": [
    "|Data Science Tools|\n",
    "|------------------\n",
    "|RStudio|\n",
    "|Apache Spark|\n",
    "|TensorFlow|\n"
   ]
  },
  {
   "cell_type": "markdown",
   "id": "54b75a19",
   "metadata": {},
   "source": [
    "### Below are a few examples of evaluating arithmetic expressions in Python"
   ]
  },
  {
   "cell_type": "code",
   "execution_count": 7,
   "id": "0582021a",
   "metadata": {},
   "outputs": [
    {
     "data": {
      "text/plain": [
       "17"
      ]
     },
     "execution_count": 7,
     "metadata": {},
     "output_type": "execute_result"
    }
   ],
   "source": [
    "# This a simple arithmetic expression to mutiply then add integers\n",
    "\n",
    "(3*4)+5"
   ]
  },
  {
   "cell_type": "code",
   "execution_count": 11,
   "id": "fbeabdf6",
   "metadata": {},
   "outputs": [
    {
     "name": "stdout",
     "output_type": "stream",
     "text": [
      "3.3333333333333335\n"
     ]
    }
   ],
   "source": [
    "# This will convert 200 minutes to hours by diving by 60.\n",
    "minutes = 200\n",
    "hour = 60\n",
    "convertedHours = minutes/hour\n",
    "print(convertedHours)\n"
   ]
  },
  {
   "cell_type": "markdown",
   "id": "fdd14987",
   "metadata": {},
   "source": [
    "## Author \n",
    "Megala Anbarasu"
   ]
  },
  {
   "cell_type": "code",
   "execution_count": null,
   "id": "777a7aa3",
   "metadata": {},
   "outputs": [],
   "source": []
  }
 ],
 "metadata": {
  "kernelspec": {
   "display_name": "Python 3 (ipykernel)",
   "language": "python",
   "name": "python3"
  },
  "language_info": {
   "codemirror_mode": {
    "name": "ipython",
    "version": 3
   },
   "file_extension": ".py",
   "mimetype": "text/x-python",
   "name": "python",
   "nbconvert_exporter": "python",
   "pygments_lexer": "ipython3",
   "version": "3.11.5"
  }
 },
 "nbformat": 4,
 "nbformat_minor": 5
}
